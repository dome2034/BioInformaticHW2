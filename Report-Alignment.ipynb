{
 "cells": [
  {
   "cell_type": "markdown",
   "metadata": {},
   "source": [
    "# Sequence Alignment\n",
    "\n",
    "### ธนกิจ เหล่ายาวิระ  600632014\n",
    "\n",
    "## Global vs. Local Alignment\n",
    "\n",
    "\n",
    "### How to use the program\n",
    "\n",
    "การเรียกใช้งานโปรแกรมจะทำในรูปแบบของ command line argument ในลักษณะดังตัวอย่างต่อไปนี้\n",
    "\n",
    "    # python a2-align-600632014.py v.txt w.txt 5 -1 -2 g\n",
    "\n",
    "โดยโปรแกรมจะรับค่า argument จำนวน 6 ตัว ได้แก่\n",
    "- v.txt คือ ไฟล์ที่เก็บข้อมูล sequence v\n",
    "- w.txt คือ ไฟล์ที่เก็บข้อมูล sequence w\n",
    "- 5 คือ Match\n",
    "- (-1) คือ Mismatch\n",
    "- (-2) คือ Gap\n",
    "- g คือ Mode โดย g = global, l = local\n",
    "\n",
    "### Important Functions\n",
    "\n",
    "ในโปรแกรมจะประกอบไปด้วยฟังก์ชั่นที่สำคัญดังต่อไปนี้"
   ]
  },
  {
   "cell_type": "markdown",
   "metadata": {},
   "source": [
    "### 1. Global Sequence Alignment Function:"
   ]
  },
  {
   "cell_type": "code",
   "execution_count": 8,
   "metadata": {
    "collapsed": true
   },
   "outputs": [],
   "source": [
    "def gsa(Seq1,Seq2,Match,Mismatch,Gap): #Global Sequence Alignment\n",
    "    row=[]\n",
    "    for i in range(0,(len(Seq1)+1)):\n",
    "        column = []\n",
    "        for j in range(0,(len(Seq2)+1)):\n",
    "            if(i == 0):\n",
    "                if(j == 0):\n",
    "                    column.append([j*Gap,[0,0,0]]) #[Value,[U,L,D]]\n",
    "                else:\n",
    "                    column.append([j*Gap,[0,1,0]]) #[Value,[U,L,D]]\n",
    "            elif(j == 0):\n",
    "                column.append([i*Gap,[1,0,0]]) #[Value,[U,L,D]]\n",
    "            else:\n",
    "                U = row[i-1][j][0]+Gap\n",
    "                L = column[j-1][0]+Gap\n",
    "                if(Seq1[i-1] == Seq2[j-1]):\n",
    "                    D = row[i-1][j-1][0] + Match\n",
    "                else:\n",
    "                    D = row[i-1][j-1][0] + Mismatch\n",
    "                Choose = max(U,L,D)\n",
    "                if(Choose == U):\n",
    "                    U = 1\n",
    "                else:\n",
    "                    U = 0\n",
    "                if(Choose == L):\n",
    "                    L = 1\n",
    "                else:\n",
    "                    L = 0\n",
    "                if(Choose == D):\n",
    "                    D = 1\n",
    "                else:\n",
    "                    D = 0\n",
    "                column.append([Choose,[U,L,D]]) #[Value,[U,L,D]]\n",
    "        row.append(column)\n",
    "    return row"
   ]
  },
  {
   "cell_type": "markdown",
   "metadata": {},
   "source": [
    "เป็นฟังก์ชั่นที่ใช้ในการหาค่าของ Global Sequence Alignment โดยจะป้อนค่าพารามิเตอร์ได้แก่ \n",
    "1. Seq1 คือ Sequence v\n",
    "2. Seq2 คือ Sequence w\n",
    "3. Match\n",
    "4. Mismatch\n",
    "5. Gap\n",
    "\n",
    "output จะเป็นตารางเก็บค่า score table และ backtrack\n"
   ]
  },
  {
   "cell_type": "markdown",
   "metadata": {},
   "source": [
    "### 2. Local Sequence Alignment Function:"
   ]
  },
  {
   "cell_type": "code",
   "execution_count": 9,
   "metadata": {
    "collapsed": true
   },
   "outputs": [],
   "source": [
    "def lsa(Seq1,Seq2,Match,Mismatch,Gap): #Local Sequence Alignment\n",
    "    row=[]\n",
    "    for i in range(0,(len(Seq1)+1)):\n",
    "        column = []\n",
    "        for j in range(0,(len(Seq2)+1)):\n",
    "            if(i == 0):\n",
    "                column.append([0,[0,0,0]]) #[Value,[U,L,D]]\n",
    "            elif(j == 0):\n",
    "                column.append([0,[0,0,0]]) #[Value,[U,L,D]]\n",
    "            else:\n",
    "                U = row[i-1][j][0]+Gap\n",
    "                L = column[j-1][0]+Gap\n",
    "                if(Seq1[i-1] == Seq2[j-1]):\n",
    "                    D = row[i-1][j-1][0] + Match\n",
    "                else:\n",
    "                    D = row[i-1][j-1][0] + Mismatch\n",
    "                Choose = max(0,U,L,D)\n",
    "                if(Choose == 0):\n",
    "                    column.append([Choose,[0,0,0]]) #[Value,[U,L,D]]  \n",
    "                else:\n",
    "                    if(Choose == U):\n",
    "                        U = 1\n",
    "                    else:\n",
    "                        U = 0\n",
    "                    if(Choose == L):\n",
    "                        L = 1\n",
    "                    else:\n",
    "                        L = 0\n",
    "                    if(Choose == D):\n",
    "                        D = 1\n",
    "                    else:\n",
    "                        D = 0\n",
    "                    column.append([Choose,[U,L,D]]) #[Value,[U,L,D]]  \n",
    "        row.append(column)\n",
    "    return row"
   ]
  },
  {
   "cell_type": "markdown",
   "metadata": {},
   "source": [
    "เป็นฟังก์ชั่นที่ใช้ในการหาค่าของ Local  Sequence Alignment โดยจะป้อนค่าพารามิเตอร์ได้แก่ \n",
    "1. Seq1 คือ Sequence v\n",
    "2. Seq2 คือ Sequence w\n",
    "3. Match\n",
    "4. Mismatch\n",
    "5. Gap\n",
    "\n",
    "output จะเป็นตารางเก็บค่า score table และ backtrack\n"
   ]
  },
  {
   "cell_type": "markdown",
   "metadata": {},
   "source": [
    "### 3. findSequencesAlignmentG Function:"
   ]
  },
  {
   "cell_type": "code",
   "execution_count": 10,
   "metadata": {
    "collapsed": true
   },
   "outputs": [],
   "source": [
    "def findSequencesAlignmentG(Source,Seq1,Seq2):\n",
    "    Row = len(Seq1)\n",
    "    Column = len(Seq2)\n",
    "    sumDirect = []\n",
    "    answerCount = 1\n",
    "    while True:\n",
    "\n",
    "        sumDirect = []\n",
    "        ResultStr1 = []\n",
    "        ResultStr2 = []  \n",
    "\n",
    "        printLCSG(Source,Seq1,Seq2,Row,Column,ResultStr1,ResultStr2,sumDirect)\n",
    "        print(\"Answer No. \" + str(answerCount))\n",
    "        print(\"Optimal Sequence 1 : \"+''.join(ResultStr1))\n",
    "        print(\"Optimal Sequence 2 : \"+''.join(ResultStr2))\n",
    "        print(\"------------------------------------\")\n",
    "\n",
    "        if (all(item == 1 for item in sumDirect)):\n",
    "            break\n",
    "        answerCount += 1\n",
    "    return 0"
   ]
  },
  {
   "cell_type": "markdown",
   "metadata": {},
   "source": [
    "เป็นฟังก์ชั่นที่ใช้ในการหาคำตอบของ Global  Sequence Alignment โดยจะป้อนค่าพารามิเตอร์ได้แก่ \n",
    "1. Source คือ score table\n",
    "1. Seq1 คือ Sequence v\n",
    "2. Seq2 คือ Sequence w\n",
    "\n",
    "output จะเป็นตารางเก็บค่า score table และ backtrack\n"
   ]
  },
  {
   "cell_type": "markdown",
   "metadata": {},
   "source": [
    "### 4. findSequencesAlignmentL Function:"
   ]
  },
  {
   "cell_type": "code",
   "execution_count": 11,
   "metadata": {
    "collapsed": true
   },
   "outputs": [],
   "source": [
    "def findSequencesAlignmentL(Source,Seq1,Seq2):\n",
    "    Row = len(Seq1)\n",
    "    Column = len(Seq2)\n",
    "    maxIndex = []\n",
    "    maxVar = 0\n",
    "    for i in range(0,(Row+1)):\n",
    "        for j in range(0,(Column+1)):\n",
    "            if ( maxVar < Source[i][j][0] ):\n",
    "                maxVar = Source[i][j][0]\n",
    "\n",
    "    for i in range(0,(Row+1)):\n",
    "        for j in range(0,(Column+1)):\n",
    "            if ( maxVar == Source[i][j][0] ):\n",
    "                maxIndex.append([i,j])\n",
    "\n",
    "    answerCount = 1\n",
    "    for i in range(0,len(maxIndex)):\n",
    "        sumDirect = []\n",
    "        while True:\n",
    "\n",
    "            sumDirect = []\n",
    "            ResultStr1 = []\n",
    "            ResultStr2 = []\n",
    "            printLCSL(Source,Seq1,Seq2,maxIndex[i][0],maxIndex[i][1],ResultStr1,ResultStr2,sumDirect)\n",
    "            print(\"Answer No. \" + str(answerCount))\n",
    "            print(\"Optimal Sequence 1 : \"+''.join(ResultStr1))\n",
    "            print(\"Optimal Sequence 2 : \"+''.join(ResultStr2))\n",
    "            print(\"------------------------------------\")\n",
    "\n",
    "            if (all(item == 1 for item in sumDirect)):\n",
    "                break\n",
    "        answerCount += 1\n",
    "\n",
    "    return 0"
   ]
  },
  {
   "cell_type": "markdown",
   "metadata": {},
   "source": [
    "เป็นฟังก์ชั่นที่ใช้ในการหาคำตอบของ Local  Sequence Alignment โดยจะป้อนค่าพารามิเตอร์ได้แก่ \n",
    "1. Source คือ score table\n",
    "1. Seq1 คือ Sequence v\n",
    "2. Seq2 คือ Sequence w\n",
    "\n",
    "output จะเป็นตารางเก็บค่า score table และ backtrack\n"
   ]
  }
 ],
 "metadata": {
  "kernelspec": {
   "display_name": "Python 3",
   "language": "python",
   "name": "python3"
  },
  "language_info": {
   "codemirror_mode": {
    "name": "ipython",
    "version": 3
   },
   "file_extension": ".py",
   "mimetype": "text/x-python",
   "name": "python",
   "nbconvert_exporter": "python",
   "pygments_lexer": "ipython3",
   "version": "3.6.3"
  }
 },
 "nbformat": 4,
 "nbformat_minor": 2
}
